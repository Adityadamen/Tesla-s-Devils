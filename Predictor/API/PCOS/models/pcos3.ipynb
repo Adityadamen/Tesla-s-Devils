{
 "cells": [
  {
   "cell_type": "code",
   "execution_count": 1,
   "metadata": {
    "colab": {},
    "colab_type": "code",
    "id": "lUlw24eGGT1p"
   },
   "outputs": [],
   "source": [
    "import pandas as pd\n",
    "import numpy as np \n",
    "import matplotlib.pyplot as plt\n",
    "import sklearn\n",
    "from sklearn.tree import DecisionTreeClassifier # Import Decision Tree Classifier\n",
    "from sklearn.model_selection import train_test_split # Import train_test_split function\n",
    "from sklearn import metrics #Import scikit-learn metrics module for accuracy calculation\n",
    "import seaborn as sns \n",
    "\n",
    "from sklearn.model_selection import train_test_split\n",
    "from sklearn.metrics import mean_squared_error\n",
    "from math import sqrt\n",
    "from sklearn.metrics import r2_score\n",
    "import warnings\n",
    "from collections import Counter"
   ]
  },
  {
   "cell_type": "code",
   "execution_count": 2,
   "metadata": {
    "colab": {
     "base_uri": "https://localhost:8080/",
     "height": 51
    },
    "colab_type": "code",
    "id": "U6OxGcR6GT1x",
    "outputId": "f5ee8e43-1a61-4e0d-917d-95783dfa99a9"
   },
   "outputs": [
    {
     "name": "stdout",
     "output_type": "stream",
     "text": [
      "(540, 11)\n"
     ]
    },
    {
     "data": {
      "text/plain": [
       "Counter({1: 220, 0: 320})"
      ]
     },
     "execution_count": 2,
     "metadata": {},
     "output_type": "execute_result"
    }
   ],
   "source": [
    "df = pd.read_csv('full3.csv') \n",
    "print(df.shape)\n",
    "df=df.dropna()\n",
    "df.isna().any()\n",
    "Counter(df[\"PCOS\"])"
   ]
  },
  {
   "cell_type": "code",
   "execution_count": 3,
   "metadata": {},
   "outputs": [
    {
     "data": {
      "text/plain": [
       "PCOS               int64\n",
       "Age                int64\n",
       "BMI              float64\n",
       "Cycle              int64\n",
       "Weightgain         int64\n",
       "hairgrowth         int64\n",
       "Skindarkening      int64\n",
       "Hairloss           int64\n",
       "Pimples            int64\n",
       "Fastfood           int64\n",
       "RegExercise        int64\n",
       "dtype: object"
      ]
     },
     "execution_count": 3,
     "metadata": {},
     "output_type": "execute_result"
    }
   ],
   "source": [
    "df.dtypes"
   ]
  },
  {
   "cell_type": "code",
   "execution_count": 4,
   "metadata": {
    "colab": {
     "base_uri": "https://localhost:8080/",
     "height": 390
    },
    "colab_type": "code",
    "id": "ULzhZcADGT14",
    "outputId": "c2bde6f1-508c-44b7-f1d7-091958bd3f11"
   },
   "outputs": [
    {
     "data": {
      "text/html": [
       "<div>\n",
       "<style scoped>\n",
       "    .dataframe tbody tr th:only-of-type {\n",
       "        vertical-align: middle;\n",
       "    }\n",
       "\n",
       "    .dataframe tbody tr th {\n",
       "        vertical-align: top;\n",
       "    }\n",
       "\n",
       "    .dataframe thead th {\n",
       "        text-align: right;\n",
       "    }\n",
       "</style>\n",
       "<table border=\"1\" class=\"dataframe\">\n",
       "  <thead>\n",
       "    <tr style=\"text-align: right;\">\n",
       "      <th></th>\n",
       "      <th>count</th>\n",
       "      <th>mean</th>\n",
       "      <th>std</th>\n",
       "      <th>min</th>\n",
       "      <th>25%</th>\n",
       "      <th>50%</th>\n",
       "      <th>75%</th>\n",
       "      <th>max</th>\n",
       "    </tr>\n",
       "  </thead>\n",
       "  <tbody>\n",
       "    <tr>\n",
       "      <th>PCOS</th>\n",
       "      <td>540.0</td>\n",
       "      <td>0.407407</td>\n",
       "      <td>0.491807</td>\n",
       "      <td>0.000000</td>\n",
       "      <td>0.000000</td>\n",
       "      <td>0.000000</td>\n",
       "      <td>1.000000</td>\n",
       "      <td>1.0</td>\n",
       "    </tr>\n",
       "    <tr>\n",
       "      <th>Age</th>\n",
       "      <td>540.0</td>\n",
       "      <td>0.652508</td>\n",
       "      <td>0.119121</td>\n",
       "      <td>0.020833</td>\n",
       "      <td>0.562500</td>\n",
       "      <td>0.645833</td>\n",
       "      <td>0.729167</td>\n",
       "      <td>1.0</td>\n",
       "    </tr>\n",
       "    <tr>\n",
       "      <th>BMI</th>\n",
       "      <td>540.0</td>\n",
       "      <td>0.089762</td>\n",
       "      <td>0.042012</td>\n",
       "      <td>0.048246</td>\n",
       "      <td>0.078572</td>\n",
       "      <td>0.087469</td>\n",
       "      <td>0.096244</td>\n",
       "      <td>1.0</td>\n",
       "    </tr>\n",
       "    <tr>\n",
       "      <th>Cycle</th>\n",
       "      <td>540.0</td>\n",
       "      <td>0.648148</td>\n",
       "      <td>0.228523</td>\n",
       "      <td>0.500000</td>\n",
       "      <td>0.500000</td>\n",
       "      <td>0.500000</td>\n",
       "      <td>1.000000</td>\n",
       "      <td>1.0</td>\n",
       "    </tr>\n",
       "    <tr>\n",
       "      <th>Weightgain</th>\n",
       "      <td>540.0</td>\n",
       "      <td>0.427778</td>\n",
       "      <td>0.495215</td>\n",
       "      <td>0.000000</td>\n",
       "      <td>0.000000</td>\n",
       "      <td>0.000000</td>\n",
       "      <td>1.000000</td>\n",
       "      <td>1.0</td>\n",
       "    </tr>\n",
       "    <tr>\n",
       "      <th>hairgrowth</th>\n",
       "      <td>540.0</td>\n",
       "      <td>0.357407</td>\n",
       "      <td>0.479681</td>\n",
       "      <td>0.000000</td>\n",
       "      <td>0.000000</td>\n",
       "      <td>0.000000</td>\n",
       "      <td>1.000000</td>\n",
       "      <td>1.0</td>\n",
       "    </tr>\n",
       "    <tr>\n",
       "      <th>Skindarkening</th>\n",
       "      <td>540.0</td>\n",
       "      <td>0.370370</td>\n",
       "      <td>0.483352</td>\n",
       "      <td>0.000000</td>\n",
       "      <td>0.000000</td>\n",
       "      <td>0.000000</td>\n",
       "      <td>1.000000</td>\n",
       "      <td>1.0</td>\n",
       "    </tr>\n",
       "    <tr>\n",
       "      <th>Hairloss</th>\n",
       "      <td>540.0</td>\n",
       "      <td>0.437037</td>\n",
       "      <td>0.496480</td>\n",
       "      <td>0.000000</td>\n",
       "      <td>0.000000</td>\n",
       "      <td>0.000000</td>\n",
       "      <td>1.000000</td>\n",
       "      <td>1.0</td>\n",
       "    </tr>\n",
       "    <tr>\n",
       "      <th>Pimples</th>\n",
       "      <td>540.0</td>\n",
       "      <td>0.396296</td>\n",
       "      <td>0.489581</td>\n",
       "      <td>0.000000</td>\n",
       "      <td>0.000000</td>\n",
       "      <td>0.000000</td>\n",
       "      <td>1.000000</td>\n",
       "      <td>1.0</td>\n",
       "    </tr>\n",
       "    <tr>\n",
       "      <th>Fastfood</th>\n",
       "      <td>540.0</td>\n",
       "      <td>0.416667</td>\n",
       "      <td>0.493464</td>\n",
       "      <td>0.000000</td>\n",
       "      <td>0.000000</td>\n",
       "      <td>0.000000</td>\n",
       "      <td>1.000000</td>\n",
       "      <td>1.0</td>\n",
       "    </tr>\n",
       "    <tr>\n",
       "      <th>RegExercise</th>\n",
       "      <td>540.0</td>\n",
       "      <td>0.246296</td>\n",
       "      <td>0.431253</td>\n",
       "      <td>0.000000</td>\n",
       "      <td>0.000000</td>\n",
       "      <td>0.000000</td>\n",
       "      <td>0.000000</td>\n",
       "      <td>1.0</td>\n",
       "    </tr>\n",
       "  </tbody>\n",
       "</table>\n",
       "</div>"
      ],
      "text/plain": [
       "               count      mean       std       min       25%       50%  \\\n",
       "PCOS           540.0  0.407407  0.491807  0.000000  0.000000  0.000000   \n",
       "Age            540.0  0.652508  0.119121  0.020833  0.562500  0.645833   \n",
       "BMI            540.0  0.089762  0.042012  0.048246  0.078572  0.087469   \n",
       "Cycle          540.0  0.648148  0.228523  0.500000  0.500000  0.500000   \n",
       "Weightgain     540.0  0.427778  0.495215  0.000000  0.000000  0.000000   \n",
       "hairgrowth     540.0  0.357407  0.479681  0.000000  0.000000  0.000000   \n",
       "Skindarkening  540.0  0.370370  0.483352  0.000000  0.000000  0.000000   \n",
       "Hairloss       540.0  0.437037  0.496480  0.000000  0.000000  0.000000   \n",
       "Pimples        540.0  0.396296  0.489581  0.000000  0.000000  0.000000   \n",
       "Fastfood       540.0  0.416667  0.493464  0.000000  0.000000  0.000000   \n",
       "RegExercise    540.0  0.246296  0.431253  0.000000  0.000000  0.000000   \n",
       "\n",
       "                    75%  max  \n",
       "PCOS           1.000000  1.0  \n",
       "Age            0.729167  1.0  \n",
       "BMI            0.096244  1.0  \n",
       "Cycle          1.000000  1.0  \n",
       "Weightgain     1.000000  1.0  \n",
       "hairgrowth     1.000000  1.0  \n",
       "Skindarkening  1.000000  1.0  \n",
       "Hairloss       1.000000  1.0  \n",
       "Pimples        1.000000  1.0  \n",
       "Fastfood       1.000000  1.0  \n",
       "RegExercise    0.000000  1.0  "
      ]
     },
     "execution_count": 4,
     "metadata": {},
     "output_type": "execute_result"
    }
   ],
   "source": [
    "target_column = ['PCOS'] \n",
    "predictors = list(set(list(df.columns))-set(target_column))\n",
    "df[predictors] = df[predictors]/df[predictors].max()\n",
    "df.describe().transpose()"
   ]
  },
  {
   "cell_type": "code",
   "execution_count": 5,
   "metadata": {
    "colab": {
     "base_uri": "https://localhost:8080/",
     "height": 51
    },
    "colab_type": "code",
    "id": "Q0OJDiXBGT1-",
    "outputId": "b90e0483-1ab2-49b2-b2cf-5b903a324dab"
   },
   "outputs": [
    {
     "name": "stdout",
     "output_type": "stream",
     "text": [
      "(432, 10)\n",
      "(108, 10)\n"
     ]
    }
   ],
   "source": [
    "X = df[predictors].values\n",
    "y = df[target_column].values\n",
    "\n",
    "X_train, X_test, y_train, y_test = train_test_split(X, y, test_size=0.20, random_state=45)\n",
    "print(X_train.shape); print(X_test.shape)\n"
   ]
  },
  {
   "cell_type": "code",
   "execution_count": 6,
   "metadata": {
    "colab": {},
    "colab_type": "code",
    "id": "Y36fxf-HGT2E"
   },
   "outputs": [],
   "source": [
    "# Create Decision Tree classifer object\n",
    "clf = DecisionTreeClassifier()\n",
    "\n",
    "# Train Decision Tree Classifer\n",
    "clf = clf.fit(X_train,y_train)\n",
    "\n",
    "#Predict the response for test dataset\n",
    "y_pred = clf.predict(X_test)\n"
   ]
  },
  {
   "cell_type": "code",
   "execution_count": 7,
   "metadata": {
    "colab": {
     "base_uri": "https://localhost:8080/",
     "height": 34
    },
    "colab_type": "code",
    "id": "0Zh9JSMd5Qyk",
    "outputId": "acbcf050-3184-4cb6-8d02-d458c29f38f6"
   },
   "outputs": [
    {
     "name": "stdout",
     "output_type": "stream",
     "text": [
      "Accuracy: 0.7407407407407407\n"
     ]
    }
   ],
   "source": [
    "# Model Accuracy, how often is the classifier correct?\n",
    "print(\"Accuracy:\",metrics.accuracy_score(y_test, y_pred))"
   ]
  },
  {
   "cell_type": "code",
   "execution_count": 8,
   "metadata": {
    "colab": {
     "base_uri": "https://localhost:8080/",
     "height": 34
    },
    "colab_type": "code",
    "id": "ksdp5zzB8oen",
    "outputId": "5b4850dc-8d4f-4e1d-90d8-d6840d5863bc"
   },
   "outputs": [
    {
     "name": "stdout",
     "output_type": "stream",
     "text": [
      "Accuracy: 0.8333333333333334\n"
     ]
    }
   ],
   "source": [
    "# Create Decision Tree classifer object\n",
    "clf = DecisionTreeClassifier(criterion=\"entropy\", max_depth=6)\n",
    "\n",
    "# Train Decision Tree Classifer\n",
    "clf = clf.fit(X_train,y_train)\n",
    "\n",
    "#Predict the response for test dataset\n",
    "y_pred = clf.predict(X_test)\n",
    "\n",
    "# Model Accuracy, how often is the classifier correct?\n",
    "print(\"Accuracy:\",metrics.accuracy_score(y_test, y_pred))"
   ]
  },
  {
   "cell_type": "code",
   "execution_count": 9,
   "metadata": {
    "colab": {
     "base_uri": "https://localhost:8080/",
     "height": 287
    },
    "colab_type": "code",
    "id": "cdHn8gGv9GCX",
    "outputId": "50c35c4a-f058-475d-b678-058649a50678"
   },
   "outputs": [],
   "source": [
    "y_pred=clf.predict(X_test)\n",
    "y_pred = (y_pred>0.5)"
   ]
  },
  {
   "cell_type": "code",
   "execution_count": 10,
   "metadata": {},
   "outputs": [
    {
     "data": {
      "text/plain": [
       "[Text(0, 0.5, 'No'), Text(0, 1.5, 'Yes')]"
      ]
     },
     "execution_count": 10,
     "metadata": {},
     "output_type": "execute_result"
    },
    {
     "data": {
      "image/png": "[encoded data removed]",
      "text/plain": [
       "<Figure size 432x288 with 2 Axes>"
      ]
     },
     "metadata": {
      "needs_background": "light"
     },
     "output_type": "display_data"
    }
   ],
   "source": [
    "from sklearn.metrics import confusion_matrix\n",
    "cn = confusion_matrix(y_test,y_pred)\n",
    "ax =plt.subplot()\n",
    "sns.heatmap(cn,annot =True,ax = ax);\n",
    "\n",
    "ax.set_xlabel('Predicted') ; ax.set_ylabel('Actual');\n",
    "ax.set_title('Confusion Matrix');\n",
    "ax.xaxis.set_ticklabels(('No','Yes')); ax.yaxis.set_ticklabels(('No','Yes'))"
   ]
  },
  {
   "cell_type": "code",
   "execution_count": 11,
   "metadata": {},
   "outputs": [
    {
     "data": {
      "text/plain": [
       "['Pcos.pkl']"
      ]
     },
     "execution_count": 11,
     "metadata": {},
     "output_type": "execute_result"
    }
   ],
   "source": [
    "import pickle\n",
    "import joblib\n",
    "filenames = 'Pcos.pkl'\n",
    "joblib.dump(clf,filenames)"
   ]
  },
  {
   "cell_type": "code",
   "execution_count": null,
   "metadata": {},
   "outputs": [],
   "source": []
  }
 ],
 "metadata": {
  "colab": {
   "collapsed_sections": [],
   "name": "pcos3.ipynb",
   "provenance": []
  },
  "kernelspec": {
   "display_name": "Python 3",
   "language": "python",
   "name": "python3"
  },
  "language_info": {
   "codemirror_mode": {
    "name": "ipython",
    "version": 3
   },
   "file_extension": ".py",
   "mimetype": "text/x-python",
   "name": "python",
   "nbconvert_exporter": "python",
   "pygments_lexer": "ipython3",
   "version": "3.7.6"
  }
 },
 "nbformat": 4,
 "nbformat_minor": 1
}
